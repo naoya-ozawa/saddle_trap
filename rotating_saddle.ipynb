{
 "cells": [
  {
   "cell_type": "code",
   "execution_count": 2,
   "metadata": {},
   "outputs": [],
   "source": [
    "# Making 3D surface plot animations for the mechanical rotating saddle potential\n",
    "from mpl_toolkits import mplot3d\n",
    "import numpy as np\n",
    "import matplotlib.pyplot as plt\n",
    "\n",
    "from PIL import Image\n",
    "import glob"
   ]
  },
  {
   "cell_type": "code",
   "execution_count": 3,
   "metadata": {},
   "outputs": [],
   "source": [
    "# Define saddle surface\n",
    "def saddle (x, y, h, r):\n",
    "    return h * (x**2 - y **2) / (r**2)"
   ]
  },
  {
   "cell_type": "code",
   "execution_count": 6,
   "metadata": {},
   "outputs": [],
   "source": [
    "# For Paul-trap simulations\n",
    "\n",
    "phi = 1.0 # V\n",
    "r = 1.0 # mm\n",
    "Omega = 2.0 * 3.14 * 0.02 # radHz\n",
    "\n",
    "x = np.linspace(-3, 3, 300)\n",
    "y = np.linspace(-3, 3, 300)\n",
    "\n",
    "X, Y = np.meshgrid(x, y)\n",
    "\n",
    "for i in range(0,50):\n",
    "\n",
    "    t = i # s\n",
    "    Z = 2.0 * np.cos(Omega * t) * saddle(X, Y, phi/2.0, r)\n",
    "\n",
    "    fig = plt.figure()\n",
    "    ax = plt.axes(projection='3d')\n",
    "    ax.set_zlim(-9, 9)\n",
    "    ax.plot_surface(X, Y, Z, rstride=1, cstride=1, cmap='viridis', edgecolor='none')\n",
    "    ax.set_axis_off()\n",
    "    plt.savefig('./flapping/{:03d}.png'.format(t),dpi=300)\n",
    "    plt.close()\n",
    "    \n",
    "files = sorted(glob.glob('./flapping/*.png'))\n",
    "images = list(map(lambda file: Image.open(file), files))\n",
    "\n",
    "images[0].save('flapping_saddle.gif', save_all=True, append_images=images[1:], optimize=False, duration=5, loop=0)"
   ]
  },
  {
   "cell_type": "code",
   "execution_count": 7,
   "metadata": {},
   "outputs": [],
   "source": [
    "# For mechanical-trap simulations\n",
    "\n",
    "h = 0.5 # cm\n",
    "r = 1.0 # cm\n",
    "Omega = 2.0 * 3.14 * 0.02 # radHz\n",
    "\n",
    "x = np.linspace(-3, 3, 300)\n",
    "y = np.linspace(-3, 3, 300)\n",
    "\n",
    "X, Y = np.meshgrid(x, y)\n",
    "\n",
    "for i in range(50):\n",
    "\n",
    "    t = i # s\n",
    "\n",
    "    X_rot = np.cos(Omega*t)*X + np.sin(Omega*t)*Y\n",
    "    Y_rot = np.cos(Omega*t)*Y - np.sin(Omega*t)*X\n",
    "\n",
    "    Z = saddle(X_rot, Y_rot, h, r)\n",
    "\n",
    "    fig = plt.figure()\n",
    "    ax = plt.axes(projection='3d')\n",
    "    ax.set_zlim(-9, 9)\n",
    "    ax.plot_surface(X, Y, Z, rstride=1, cstride=1, cmap='viridis', edgecolor='none')\n",
    "    ax.set_axis_off()\n",
    "    plt.savefig('./rotation/{:03d}.png'.format(t),dpi=300)\n",
    "    plt.close()\n",
    "    \n",
    "files = sorted(glob.glob('./rotation/*.png'))\n",
    "images = list(map(lambda file: Image.open(file), files))\n",
    "\n",
    "images[0].save('rotating_saddle.gif', save_all=True, append_images=images[1:], optimize=False, duration=5, loop=0)"
   ]
  },
  {
   "cell_type": "code",
   "execution_count": 4,
   "metadata": {},
   "outputs": [],
   "source": [
    "# For mechanical-trap simulations (Axis rotation)\n",
    "\n",
    "h = 0.5 # cm\n",
    "r = 1.0 # cm\n",
    "\n",
    "x = np.linspace(-3, 3, 300)\n",
    "y = np.linspace(-3, 3, 300)\n",
    "\n",
    "X, Y = np.meshgrid(x, y)\n",
    "Z = saddle(X, Y, h, r)\n",
    "\n",
    "for angle in range(0, 60):\n",
    "    fig = plt.figure()\n",
    "    ax = plt.axes(projection='3d')\n",
    "    ax.set_zlim(-9, 9)\n",
    "    ax.plot_surface(X, Y, Z, rstride=1, cstride=1, cmap='viridis', edgecolor='none')\n",
    "    ax.set_axis_off()\n",
    "    ax.view_init(30, 6.0*angle)\n",
    "    plt.draw()\n",
    "    plt.savefig('./axisrotation/{:03d}.png'.format(angle),dpi=300)\n",
    "    plt.close()\n",
    "    \n",
    "files = sorted(glob.glob('./axisrotation/*.png'))\n",
    "images = list(map(lambda file: Image.open(file), files))\n",
    "\n",
    "images[0].save('axisrotating_saddle.gif', save_all=True, append_images=images[1:], optimize=False, duration=5, loop=0)"
   ]
  }
 ],
 "metadata": {
  "kernelspec": {
   "display_name": "Python 3",
   "language": "python",
   "name": "python3"
  },
  "language_info": {
   "codemirror_mode": {
    "name": "ipython",
    "version": 3
   },
   "file_extension": ".py",
   "mimetype": "text/x-python",
   "name": "python",
   "nbconvert_exporter": "python",
   "pygments_lexer": "ipython3",
   "version": "3.6.4"
  }
 },
 "nbformat": 4,
 "nbformat_minor": 2
}
